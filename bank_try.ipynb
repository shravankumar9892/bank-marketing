{
 "cells": [
  {
   "cell_type": "code",
   "execution_count": 1,
   "metadata": {},
   "outputs": [],
   "source": [
    "import pandas as pd\n",
    "from sklearn.preprocessing import LabelEncoder\n",
    "import boto3\n",
    "import botocore\n",
    "import json"
   ]
  },
  {
   "cell_type": "markdown",
   "metadata": {},
   "source": [
    "# Dataset : downloading - preprocessing - uploading"
   ]
  },
  {
   "cell_type": "markdown",
   "metadata": {},
   "source": [
    "First download the [dataset](http://archive.ics.uci.edu/ml/machine-learning-databases/00222/bank-additional.zip) and keep it in the data folder with name 'bankadditionalfull.csv'"
   ]
  },
  {
   "cell_type": "code",
   "execution_count": 2,
   "metadata": {},
   "outputs": [
    {
     "data": {
      "text/html": [
       "<div>\n",
       "<style scoped>\n",
       "    .dataframe tbody tr th:only-of-type {\n",
       "        vertical-align: middle;\n",
       "    }\n",
       "\n",
       "    .dataframe tbody tr th {\n",
       "        vertical-align: top;\n",
       "    }\n",
       "\n",
       "    .dataframe thead th {\n",
       "        text-align: right;\n",
       "    }\n",
       "</style>\n",
       "<table border=\"1\" class=\"dataframe\">\n",
       "  <thead>\n",
       "    <tr style=\"text-align: right;\">\n",
       "      <th></th>\n",
       "      <th>job</th>\n",
       "      <th>marital</th>\n",
       "      <th>education</th>\n",
       "      <th>default</th>\n",
       "      <th>housing</th>\n",
       "      <th>loan</th>\n",
       "      <th>contact</th>\n",
       "      <th>month</th>\n",
       "      <th>day_of_week</th>\n",
       "      <th>duration</th>\n",
       "      <th>campaign</th>\n",
       "      <th>pdays</th>\n",
       "      <th>previous</th>\n",
       "      <th>poutcome</th>\n",
       "      <th>emp.var.rate</th>\n",
       "      <th>cons.price.idx</th>\n",
       "      <th>cons.conf.idx</th>\n",
       "      <th>euribor3m</th>\n",
       "      <th>nr.employed</th>\n",
       "      <th>y</th>\n",
       "    </tr>\n",
       "    <tr>\n",
       "      <th>age</th>\n",
       "      <th></th>\n",
       "      <th></th>\n",
       "      <th></th>\n",
       "      <th></th>\n",
       "      <th></th>\n",
       "      <th></th>\n",
       "      <th></th>\n",
       "      <th></th>\n",
       "      <th></th>\n",
       "      <th></th>\n",
       "      <th></th>\n",
       "      <th></th>\n",
       "      <th></th>\n",
       "      <th></th>\n",
       "      <th></th>\n",
       "      <th></th>\n",
       "      <th></th>\n",
       "      <th></th>\n",
       "      <th></th>\n",
       "      <th></th>\n",
       "    </tr>\n",
       "  </thead>\n",
       "  <tbody>\n",
       "    <tr>\n",
       "      <th>56</th>\n",
       "      <td>housemaid</td>\n",
       "      <td>married</td>\n",
       "      <td>basic.4y</td>\n",
       "      <td>no</td>\n",
       "      <td>no</td>\n",
       "      <td>no</td>\n",
       "      <td>telephone</td>\n",
       "      <td>may</td>\n",
       "      <td>mon</td>\n",
       "      <td>261</td>\n",
       "      <td>1</td>\n",
       "      <td>999</td>\n",
       "      <td>0</td>\n",
       "      <td>nonexistent</td>\n",
       "      <td>1.1</td>\n",
       "      <td>93.994</td>\n",
       "      <td>-36.4</td>\n",
       "      <td>4.857</td>\n",
       "      <td>5191.0</td>\n",
       "      <td>no</td>\n",
       "    </tr>\n",
       "    <tr>\n",
       "      <th>57</th>\n",
       "      <td>services</td>\n",
       "      <td>married</td>\n",
       "      <td>high.school</td>\n",
       "      <td>unknown</td>\n",
       "      <td>no</td>\n",
       "      <td>no</td>\n",
       "      <td>telephone</td>\n",
       "      <td>may</td>\n",
       "      <td>mon</td>\n",
       "      <td>149</td>\n",
       "      <td>1</td>\n",
       "      <td>999</td>\n",
       "      <td>0</td>\n",
       "      <td>nonexistent</td>\n",
       "      <td>1.1</td>\n",
       "      <td>93.994</td>\n",
       "      <td>-36.4</td>\n",
       "      <td>4.857</td>\n",
       "      <td>5191.0</td>\n",
       "      <td>no</td>\n",
       "    </tr>\n",
       "  </tbody>\n",
       "</table>\n",
       "</div>"
      ],
      "text/plain": [
       "           job  marital    education  default housing loan    contact month  \\\n",
       "age                                                                           \n",
       "56   housemaid  married     basic.4y       no      no   no  telephone   may   \n",
       "57    services  married  high.school  unknown      no   no  telephone   may   \n",
       "\n",
       "    day_of_week  duration  campaign  pdays  previous     poutcome  \\\n",
       "age                                                                 \n",
       "56          mon       261         1    999         0  nonexistent   \n",
       "57          mon       149         1    999         0  nonexistent   \n",
       "\n",
       "     emp.var.rate  cons.price.idx  cons.conf.idx  euribor3m  nr.employed   y  \n",
       "age                                                                           \n",
       "56            1.1          93.994          -36.4      4.857       5191.0  no  \n",
       "57            1.1          93.994          -36.4      4.857       5191.0  no  "
      ]
     },
     "execution_count": 2,
     "metadata": {},
     "output_type": "execute_result"
    }
   ],
   "source": [
    "raw_data = pd.read_csv('data/bankadditionalfull.csv', sep=';', index_col=0)\n",
    "raw_data.head(2)"
   ]
  },
  {
   "cell_type": "code",
   "execution_count": 3,
   "metadata": {},
   "outputs": [],
   "source": [
    "# Finds categorical data from the dataframe\n",
    "# Needed for creating the Data Schema, we'll see afterwards\n",
    "\n",
    "def identify_categorical(dataframe):   \n",
    "    total = dataframe.columns\n",
    "    numerical = dataframe._get_numeric_data().columns\n",
    "    dictionary = {'CATEGORICAL': list(set(total) - set(numerical)), 'NUMERIC':list(numerical)}\n",
    "    return dictionary\n",
    "\n",
    "features = identify_categorical(raw_data)"
   ]
  },
  {
   "cell_type": "code",
   "execution_count": null,
   "metadata": {},
   "outputs": [],
   "source": [
    "# Do not execute this code block! It is only shown for understanding purpose\n",
    "# As Amazon ML accepts objects type of data as well as long as we specify data types correctly\n",
    "\n",
    "for columns in features['CATEGORICAL']:\n",
    "    le = LabelEncoder()\n",
    "    le.fit(raw_data[columns])\n",
    "    raw_data[columns] = le.transform(raw_data[columns])\n",
    "    del(le)\n",
    "\n",
    "# Saving the file\n",
    "# This file needs to be saved in S3 Bucket to use Amazon ML\n",
    "raw_data.to_csv('data/bankadditionalfull_.csv', index=False)\n",
    "\n",
    "raw_data.head(2)    "
   ]
  },
  {
   "cell_type": "markdown",
   "metadata": {},
   "source": [
    "Before starting off with using amazon services, do [this](https://boto3.amazonaws.com/v1/documentation/api/latest/guide/quickstart.html)\n",
    "\n",
    "And it is mandatory to save the data in either S3 or RedShift, otherwise you cannot use Amazon ML"
   ]
  },
  {
   "cell_type": "markdown",
   "metadata": {},
   "source": [
    "## If data already exists in S3 Bucket"
   ]
  },
  {
   "cell_type": "code",
   "execution_count": 4,
   "metadata": {},
   "outputs": [],
   "source": [
    "# Checking if a bucket exists already \n",
    "s3 = boto3.client('s3')\n",
    "response = s3.list_buckets()\n",
    "\n",
    "# response is a dictionary, which gives\n",
    "# metadata, bucket name & owner Id\n",
    "bucket = [buckets['Name'] for buckets in response['Buckets']]\n",
    "BUCKET_NAME = bucket[0]\n",
    "KEY = 'bankadditionalfull_.csv' # File name in the bucket, not the Owner ID.\n",
    "\n",
    "s3 = boto3.resource('s3')\n",
    "\n",
    "try:\n",
    "    s3.Bucket(BUCKET_NAME).download_file('bankadditionalfull_.csv', 'data/bankadditionalfull_.csv')\n",
    "except botocore.exceptions.ClientError as e:\n",
    "    if e.response['Error']['Code'] == \"404\":\n",
    "        print(\"The file does not exist.\")\n",
    "    else:\n",
    "        raise        "
   ]
  },
  {
   "cell_type": "markdown",
   "metadata": {},
   "source": [
    "## If data is in your local machine"
   ]
  },
  {
   "cell_type": "code",
   "execution_count": null,
   "metadata": {},
   "outputs": [],
   "source": [
    "# For users who do not have a S3 Bucket created\n",
    "import boto3\n",
    "\n",
    "s3 = boto3.client('s3')\n",
    "s3.create_bucket(Bucket='<your_bucket_name>')\n",
    "s3.upload_file(filename, '<your_bucket_name>', filename)"
   ]
  },
  {
   "cell_type": "markdown",
   "metadata": {},
   "source": [
    "- To know more about using boto3 to access S3 buckets click [here](https://boto3.amazonaws.com/v1/documentation/api/latest/guide/s3-example-creating-buckets.html)\n",
    "\n",
    "- Since we have saved our dataset in the S3 Bucket, we can now move forward to creating ML model.\n",
    "\n",
    "- First we need to create a datasource. A datasource is basically the information of our dataset. Like, \n",
    "    * Where is it stored\n",
    "    * Info of the data features (aka categorical/numerical/text/binary)"
   ]
  },
  {
   "cell_type": "markdown",
   "metadata": {},
   "source": [
    "![DataSource](images/createdatasource.png)"
   ]
  },
  {
   "cell_type": "code",
   "execution_count": null,
   "metadata": {},
   "outputs": [],
   "source": [
    "client = boto3.client('machinelearning')"
   ]
  },
  {
   "cell_type": "markdown",
   "metadata": {},
   "source": [
    "#### Creating JSON file for DataSchema"
   ]
  },
  {
   "cell_type": "code",
   "execution_count": null,
   "metadata": {},
   "outputs": [],
   "source": [
    "# Copied this from boto3 documentation\n",
    "# Even you copy it as it is\n",
    "DataSchema = { \n",
    "    \"version\": \"1.0\",\n",
    "    \"targetFieldName\": \"y\",\n",
    "    \"dataFormat\": \"CSV\",\n",
    "    \"dataFileContainsHeader\": 'true', # Set it to true because, CSV contains feature names.\n",
    "    }\n",
    "\n",
    "# Now we will fill the \"attributes\"\n",
    "attributes = []\n",
    "for featureType in list(features.keys()):\n",
    "    for featureName in features[featureType]:\n",
    "        attributes.append({'fieldName':featureName, 'fieldType':featureType})\n",
    "        \n",
    "DataSchema['attributes'] = attributes  \n",
    "\n",
    "# Saving DataSchema in a JSON file\n",
    "with open('data/dataschema.json', 'w') as outfile:\n",
    "    json.dump(DataSchema, outfile)"
   ]
  },
  {
   "cell_type": "code",
   "execution_count": null,
   "metadata": {},
   "outputs": [],
   "source": [
    "# Make sure for Amazon ML you set your region name to 'us-east-1' or 'eu-west-1'\n",
    "# As AML works only for US East(Virginia) and EU (Ireland) as of now.\n",
    "\n",
    "\n",
    "# Make sure you wait for 4-5 minutes once you execute this code cell.\n",
    "_ = client.create_data_source_from_s3(\n",
    "    DataSourceId='ds-sYkrd9KZMme', # Any ID will do\n",
    "    DataSourceName='tryingboto',  # Any name will do\n",
    "    DataSpec={\n",
    "        'DataLocationS3': 's3://bankclassification/bankadditionalfull_.csv', # s3://bucket_name/file_name\n",
    "        # DataScehma is the string of the DataSchema dictionary that we created before.\n",
    "        'DataSchema': '{\"version\": \"1.0\", \"targetFieldName\": \"y\", \"dataFormat\": \"CSV\", \"dataFileContainsHeader\": \"true\", \"attributes\": [{\"fieldName\": \"day_of_week\", \"fieldType\": \"CATEGORICAL\"}, {\"fieldName\": \"y\", \"fieldType\": \"BINARY\"}, {\"fieldName\": \"contact\", \"fieldType\": \"CATEGORICAL\"}, {\"fieldName\": \"education\", \"fieldType\": \"CATEGORICAL\"}, {\"fieldName\": \"loan\", \"fieldType\": \"CATEGORICAL\"}, {\"fieldName\": \"poutcome\", \"fieldType\": \"CATEGORICAL\"}, {\"fieldName\": \"default\", \"fieldType\": \"CATEGORICAL\"}, {\"fieldName\": \"marital\", \"fieldType\": \"CATEGORICAL\"}, {\"fieldName\": \"job\", \"fieldType\": \"CATEGORICAL\"}, {\"fieldName\": \"month\", \"fieldType\": \"CATEGORICAL\"}, {\"fieldName\": \"housing\", \"fieldType\": \"CATEGORICAL\"}, {\"fieldName\": \"duration\", \"fieldType\": \"NUMERIC\"}, {\"fieldName\": \"campaign\", \"fieldType\": \"NUMERIC\"}, {\"fieldName\": \"pdays\", \"fieldType\": \"NUMERIC\"}, {\"fieldName\": \"previous\", \"fieldType\": \"NUMERIC\"}, {\"fieldName\": \"emp.var.rate\", \"fieldType\": \"NUMERIC\"}, {\"fieldName\": \"cons.price.idx\", \"fieldType\": \"NUMERIC\"}, {\"fieldName\": \"cons.conf.idx\", \"fieldType\": \"NUMERIC\"}, {\"fieldName\": \"euribor3m\", \"fieldType\": \"NUMERIC\"}, {\"fieldName\": \"nr.employed\", \"fieldType\": \"NUMERIC\"}]}'\n",
    "    },\n",
    "    ComputeStatistics=True\n",
    ")"
   ]
  },
  {
   "cell_type": "markdown",
   "metadata": {},
   "source": [
    "Once Data Source is created, you'd get this:\n",
    "\n",
    "![Data Source](images/dataSource.png)"
   ]
  },
  {
   "cell_type": "code",
   "execution_count": null,
   "metadata": {},
   "outputs": [],
   "source": [
    "__ = client.create_ml_model(\n",
    "    MLModelId='mlmodelid_',\n",
    "    MLModelName='marketingbank',\n",
    "    MLModelType='BINARY',   # Amazon ML has 3 types of model types: BINARY | MULTICLASS | REGRESSION\n",
    "    TrainingDataSourceId='ds-sYkrd9KZMme'\n",
    ")"
   ]
  },
  {
   "cell_type": "markdown",
   "metadata": {},
   "source": [
    "Once the model is trained, you would get this in your Dashboard\n",
    "\n",
    "![ML model trained](images/mlmodel.png)"
   ]
  },
  {
   "cell_type": "code",
   "execution_count": null,
   "metadata": {},
   "outputs": [],
   "source": [
    "# To create batch predictions on the test data\n",
    "# We again need to create a datasource for the dataset\n",
    "# And enter the datasource id below\n",
    "\n",
    "___ = client.create_batch_prediction(\n",
    "    BatchPredictionId='batchpredictionid_',\n",
    "    BatchPredictionName='predictresults',\n",
    "    MLModelId='mlmodelid_',\n",
    "    BatchPredictionDataSourceId='ds-CmsaR7xPeTU',\n",
    "    OutputUri='s3://bankclassification/'\n",
    ")\n",
    "\n",
    "# OutputUri specifies in which S3 bucket directory shall the prediction folder be placed."
   ]
  },
  {
   "cell_type": "markdown",
   "metadata": {},
   "source": [
    "After executing above code cell, if you go and check your Dashboard you would see something like this:\n",
    "\n",
    "![Batch Predictions](images/batchPredictions.png)"
   ]
  }
 ],
 "metadata": {
  "kernelspec": {
   "display_name": "Python 3",
   "language": "python",
   "name": "python3"
  },
  "language_info": {
   "codemirror_mode": {
    "name": "ipython",
    "version": 3
   },
   "file_extension": ".py",
   "mimetype": "text/x-python",
   "name": "python",
   "nbconvert_exporter": "python",
   "pygments_lexer": "ipython3",
   "version": "3.6.5"
  }
 },
 "nbformat": 4,
 "nbformat_minor": 2
}
